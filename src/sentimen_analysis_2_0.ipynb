{
  "nbformat": 4,
  "nbformat_minor": 0,
  "metadata": {
    "colab": {
      "provenance": [],
      "authorship_tag": "ABX9TyMgSHJv+G8S4xa3H/iCUVCs",
      "include_colab_link": true
    },
    "kernelspec": {
      "name": "python3",
      "display_name": "Python 3"
    },
    "language_info": {
      "name": "python"
    }
  },
  "cells": [
    {
      "cell_type": "markdown",
      "metadata": {
        "id": "view-in-github",
        "colab_type": "text"
      },
      "source": [
        "<a href=\"https://colab.research.google.com/github/vishallmaurya/sentiment_analyzer_backend/blob/main/sentimen_analysis_2_0.ipynb\" target=\"_parent\"><img src=\"https://colab.research.google.com/assets/colab-badge.svg\" alt=\"Open In Colab\"/></a>"
      ]
    },
    {
      "cell_type": "markdown",
      "source": [
        "0 resembles negative <br>\n",
        "1 resembles positive <br>\n",
        "2 resembles neutral <br>"
      ],
      "metadata": {
        "id": "W38uZIMIG0Pk"
      }
    },
    {
      "cell_type": "code",
      "execution_count": 21,
      "metadata": {
        "id": "34jraRVP3pB-"
      },
      "outputs": [],
      "source": [
        "import pandas as pd\n",
        "import numpy as np\n",
        "import re\n",
        "from transformers import BertTokenizer, BertForSequenceClassification, Trainer, TrainingArguments, pipeline"
      ]
    },
    {
      "cell_type": "code",
      "source": [
        "required_csv = ['/content/sentiment_data_2_label.csv', '/content/sentiment_data_3csv.csv', '/content/sentiment_data_label.csv']"
      ],
      "metadata": {
        "id": "8HS5IcDxHEr_"
      },
      "execution_count": 18,
      "outputs": []
    },
    {
      "cell_type": "code",
      "source": [
        "class TweetPreprocessor:\n",
        "    def __init__(self, model_name=\"bert-base-uncased\", max_length=128):\n",
        "        \"\"\"Initialize tokenizer and parameters.\"\"\"\n",
        "        self.tokenizer = BertTokenizer.from_pretrained(model_name)\n",
        "        self.max_length = max_length\n",
        "\n",
        "    def load_dataset(self, csv_files):\n",
        "        \"\"\"Load and combine CSV files into a DataFrame.\"\"\"\n",
        "        df_list = []\n",
        "        for file in csv_files:\n",
        "            df = pd.read_csv(file)\n",
        "            df = df[['Tweet', 'class']]\n",
        "            df.dropna(inplace=True)\n",
        "            df_list.append(df)\n",
        "        return pd.concat(df_list, ignore_index=True)\n",
        "\n",
        "    def preprocess_text(self, text):\n",
        "        \"\"\"Lowercase, strip spaces, and clean text.\"\"\"\n",
        "        text = text.lower().strip()\n",
        "        text = re.sub(r'\\s+', ' ', text)\n",
        "        return text\n",
        "\n",
        "    def encode_text(self, texts):\n",
        "        \"\"\"Tokenize and encode text for BERT.\"\"\"\n",
        "        return self.tokenizer(\n",
        "            texts,\n",
        "            truncation=True,\n",
        "            padding=True,\n",
        "            max_length=self.max_length,\n",
        "            return_tensors=\"pt\"\n",
        "        )"
      ],
      "metadata": {
        "id": "1YlEEr5F4R4J"
      },
      "execution_count": 28,
      "outputs": []
    },
    {
      "cell_type": "code",
      "source": [
        "if __name__ == \"__main__\":\n",
        "    preprocessor = TweetPreprocessor()\n",
        "\n",
        "    csv_files = required_csv\n",
        "    df = preprocessor.load_dataset(csv_files)\n",
        "\n",
        "    df[\"Tweet\"] = df[\"Tweet\"].apply(preprocessor.preprocess_text)\n",
        "\n",
        "    encoded_texts = preprocessor.encode_text(df[\"Tweet\"].tolist())\n",
        "\n",
        "    # print(encoded_texts)"
      ],
      "metadata": {
        "id": "5si0r1aDKV4J"
      },
      "execution_count": 31,
      "outputs": []
    },
    {
      "cell_type": "code",
      "source": [],
      "metadata": {
        "id": "0l8lYo0zMyJk"
      },
      "execution_count": null,
      "outputs": []
    }
  ]
}